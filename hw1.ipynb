{
 "cells": [
  {
   "cell_type": "code",
   "execution_count": 25,
   "id": "46bb4797-a2ee-426c-8ad7-8977953c65e6",
   "metadata": {},
   "outputs": [],
   "source": [
    "import pandas as pd\n",
    "from sklearn.feature_extraction import DictVectorizer\n",
    "from sklearn.linear_model import LinearRegression\n",
    "from sklearn.linear_model import Lasso\n",
    "from sklearn.linear_model import Ridge\n",
    "\n",
    "from sklearn.metrics import mean_squared_error"
   ]
  },
  {
   "cell_type": "code",
   "execution_count": 26,
   "id": "7ccaca4c-b0de-4e85-aead-f9b7161af89b",
   "metadata": {},
   "outputs": [],
   "source": [
    "df = pd.read_parquet(\"/Users/yl5933/Downloads/yellow_tripdata_2022-01.parquet\")"
   ]
  },
  {
   "cell_type": "code",
   "execution_count": 28,
   "id": "34932244-023b-4eb2-bdb2-b49f718835e4",
   "metadata": {},
   "outputs": [],
   "source": [
    "num_rows_pre_filter = df.shape[0]"
   ]
  },
  {
   "cell_type": "code",
   "execution_count": 29,
   "id": "dd80e54c-42c2-418a-a683-04148c00fde3",
   "metadata": {},
   "outputs": [],
   "source": [
    "df[\"duration\"] = (df[\"tpep_dropoff_datetime\"] - df[\"tpep_pickup_datetime\"]).dt.total_seconds().div(60).astype(int)"
   ]
  },
  {
   "cell_type": "code",
   "execution_count": 30,
   "id": "da542cb9-ae0b-4e0f-8fc0-2000eeefb827",
   "metadata": {},
   "outputs": [
    {
     "data": {
      "text/html": [
       "<div>\n",
       "<style scoped>\n",
       "    .dataframe tbody tr th:only-of-type {\n",
       "        vertical-align: middle;\n",
       "    }\n",
       "\n",
       "    .dataframe tbody tr th {\n",
       "        vertical-align: top;\n",
       "    }\n",
       "\n",
       "    .dataframe thead th {\n",
       "        text-align: right;\n",
       "    }\n",
       "</style>\n",
       "<table border=\"1\" class=\"dataframe\">\n",
       "  <thead>\n",
       "    <tr style=\"text-align: right;\">\n",
       "      <th></th>\n",
       "      <th>VendorID</th>\n",
       "      <th>tpep_pickup_datetime</th>\n",
       "      <th>tpep_dropoff_datetime</th>\n",
       "      <th>passenger_count</th>\n",
       "      <th>trip_distance</th>\n",
       "      <th>RatecodeID</th>\n",
       "      <th>PULocationID</th>\n",
       "      <th>DOLocationID</th>\n",
       "      <th>payment_type</th>\n",
       "      <th>fare_amount</th>\n",
       "      <th>extra</th>\n",
       "      <th>mta_tax</th>\n",
       "      <th>tip_amount</th>\n",
       "      <th>tolls_amount</th>\n",
       "      <th>improvement_surcharge</th>\n",
       "      <th>total_amount</th>\n",
       "      <th>congestion_surcharge</th>\n",
       "      <th>airport_fee</th>\n",
       "      <th>duration</th>\n",
       "    </tr>\n",
       "  </thead>\n",
       "  <tbody>\n",
       "    <tr>\n",
       "      <th>count</th>\n",
       "      <td>2.463931e+06</td>\n",
       "      <td>2463931</td>\n",
       "      <td>2463931</td>\n",
       "      <td>2.392428e+06</td>\n",
       "      <td>2.463931e+06</td>\n",
       "      <td>2.392428e+06</td>\n",
       "      <td>2.463931e+06</td>\n",
       "      <td>2.463931e+06</td>\n",
       "      <td>2.463931e+06</td>\n",
       "      <td>2.463931e+06</td>\n",
       "      <td>2.463931e+06</td>\n",
       "      <td>2.463931e+06</td>\n",
       "      <td>2.463931e+06</td>\n",
       "      <td>2.463931e+06</td>\n",
       "      <td>2.463931e+06</td>\n",
       "      <td>2.463931e+06</td>\n",
       "      <td>2.392428e+06</td>\n",
       "      <td>2.392428e+06</td>\n",
       "      <td>2.463931e+06</td>\n",
       "    </tr>\n",
       "    <tr>\n",
       "      <th>mean</th>\n",
       "      <td>1.707819e+00</td>\n",
       "      <td>2022-01-17 01:19:51.689726208</td>\n",
       "      <td>2022-01-17 01:34:04.421900544</td>\n",
       "      <td>1.389453e+00</td>\n",
       "      <td>5.372751e+00</td>\n",
       "      <td>1.415507e+00</td>\n",
       "      <td>1.660768e+02</td>\n",
       "      <td>1.635807e+02</td>\n",
       "      <td>1.194449e+00</td>\n",
       "      <td>1.294648e+01</td>\n",
       "      <td>1.006710e+00</td>\n",
       "      <td>4.914539e-01</td>\n",
       "      <td>2.385696e+00</td>\n",
       "      <td>3.749773e-01</td>\n",
       "      <td>2.967234e-01</td>\n",
       "      <td>1.916937e+01</td>\n",
       "      <td>2.282322e+00</td>\n",
       "      <td>8.249935e-02</td>\n",
       "      <td>1.372804e+01</td>\n",
       "    </tr>\n",
       "    <tr>\n",
       "      <th>min</th>\n",
       "      <td>1.000000e+00</td>\n",
       "      <td>2008-12-31 22:23:09</td>\n",
       "      <td>2008-12-31 23:06:56</td>\n",
       "      <td>0.000000e+00</td>\n",
       "      <td>0.000000e+00</td>\n",
       "      <td>1.000000e+00</td>\n",
       "      <td>1.000000e+00</td>\n",
       "      <td>1.000000e+00</td>\n",
       "      <td>0.000000e+00</td>\n",
       "      <td>-4.800000e+02</td>\n",
       "      <td>-4.500000e+00</td>\n",
       "      <td>-5.000000e-01</td>\n",
       "      <td>-1.252200e+02</td>\n",
       "      <td>-3.140000e+01</td>\n",
       "      <td>-3.000000e-01</td>\n",
       "      <td>-4.803000e+02</td>\n",
       "      <td>-2.500000e+00</td>\n",
       "      <td>-1.250000e+00</td>\n",
       "      <td>-3.442000e+03</td>\n",
       "    </tr>\n",
       "    <tr>\n",
       "      <th>25%</th>\n",
       "      <td>1.000000e+00</td>\n",
       "      <td>2022-01-09 15:37:41</td>\n",
       "      <td>2022-01-09 15:50:50.500000</td>\n",
       "      <td>1.000000e+00</td>\n",
       "      <td>1.040000e+00</td>\n",
       "      <td>1.000000e+00</td>\n",
       "      <td>1.320000e+02</td>\n",
       "      <td>1.130000e+02</td>\n",
       "      <td>1.000000e+00</td>\n",
       "      <td>6.500000e+00</td>\n",
       "      <td>0.000000e+00</td>\n",
       "      <td>5.000000e-01</td>\n",
       "      <td>7.200000e-01</td>\n",
       "      <td>0.000000e+00</td>\n",
       "      <td>3.000000e-01</td>\n",
       "      <td>1.130000e+01</td>\n",
       "      <td>2.500000e+00</td>\n",
       "      <td>0.000000e+00</td>\n",
       "      <td>6.000000e+00</td>\n",
       "    </tr>\n",
       "    <tr>\n",
       "      <th>50%</th>\n",
       "      <td>2.000000e+00</td>\n",
       "      <td>2022-01-17 12:11:45</td>\n",
       "      <td>2022-01-17 12:23:49</td>\n",
       "      <td>1.000000e+00</td>\n",
       "      <td>1.740000e+00</td>\n",
       "      <td>1.000000e+00</td>\n",
       "      <td>1.620000e+02</td>\n",
       "      <td>1.620000e+02</td>\n",
       "      <td>1.000000e+00</td>\n",
       "      <td>9.000000e+00</td>\n",
       "      <td>5.000000e-01</td>\n",
       "      <td>5.000000e-01</td>\n",
       "      <td>2.000000e+00</td>\n",
       "      <td>0.000000e+00</td>\n",
       "      <td>3.000000e-01</td>\n",
       "      <td>1.469000e+01</td>\n",
       "      <td>2.500000e+00</td>\n",
       "      <td>0.000000e+00</td>\n",
       "      <td>1.000000e+01</td>\n",
       "    </tr>\n",
       "    <tr>\n",
       "      <th>75%</th>\n",
       "      <td>2.000000e+00</td>\n",
       "      <td>2022-01-24 13:49:37.500000</td>\n",
       "      <td>2022-01-24 14:02:51</td>\n",
       "      <td>1.000000e+00</td>\n",
       "      <td>3.130000e+00</td>\n",
       "      <td>1.000000e+00</td>\n",
       "      <td>2.340000e+02</td>\n",
       "      <td>2.360000e+02</td>\n",
       "      <td>1.000000e+00</td>\n",
       "      <td>1.400000e+01</td>\n",
       "      <td>2.500000e+00</td>\n",
       "      <td>5.000000e-01</td>\n",
       "      <td>3.000000e+00</td>\n",
       "      <td>0.000000e+00</td>\n",
       "      <td>3.000000e-01</td>\n",
       "      <td>2.002000e+01</td>\n",
       "      <td>2.500000e+00</td>\n",
       "      <td>0.000000e+00</td>\n",
       "      <td>1.600000e+01</td>\n",
       "    </tr>\n",
       "    <tr>\n",
       "      <th>max</th>\n",
       "      <td>6.000000e+00</td>\n",
       "      <td>2022-05-18 20:41:57</td>\n",
       "      <td>2022-05-18 20:47:45</td>\n",
       "      <td>9.000000e+00</td>\n",
       "      <td>3.061593e+05</td>\n",
       "      <td>9.900000e+01</td>\n",
       "      <td>2.650000e+02</td>\n",
       "      <td>2.650000e+02</td>\n",
       "      <td>5.000000e+00</td>\n",
       "      <td>4.010923e+05</td>\n",
       "      <td>3.350000e+01</td>\n",
       "      <td>1.659000e+01</td>\n",
       "      <td>8.888800e+02</td>\n",
       "      <td>1.933000e+02</td>\n",
       "      <td>3.000000e-01</td>\n",
       "      <td>4.010956e+05</td>\n",
       "      <td>2.500000e+00</td>\n",
       "      <td>1.250000e+00</td>\n",
       "      <td>8.513000e+03</td>\n",
       "    </tr>\n",
       "    <tr>\n",
       "      <th>std</th>\n",
       "      <td>5.021375e-01</td>\n",
       "      <td>NaN</td>\n",
       "      <td>NaN</td>\n",
       "      <td>9.829686e-01</td>\n",
       "      <td>5.478714e+02</td>\n",
       "      <td>5.917573e+00</td>\n",
       "      <td>6.546806e+01</td>\n",
       "      <td>7.079016e+01</td>\n",
       "      <td>5.001778e-01</td>\n",
       "      <td>2.558149e+02</td>\n",
       "      <td>1.236226e+00</td>\n",
       "      <td>8.291560e-02</td>\n",
       "      <td>2.830698e+00</td>\n",
       "      <td>1.680538e+00</td>\n",
       "      <td>4.374741e-02</td>\n",
       "      <td>2.559641e+02</td>\n",
       "      <td>7.432040e-01</td>\n",
       "      <td>3.125554e-01</td>\n",
       "      <td>4.644542e+01</td>\n",
       "    </tr>\n",
       "  </tbody>\n",
       "</table>\n",
       "</div>"
      ],
      "text/plain": [
       "           VendorID           tpep_pickup_datetime   \n",
       "count  2.463931e+06                        2463931  \\\n",
       "mean   1.707819e+00  2022-01-17 01:19:51.689726208   \n",
       "min    1.000000e+00            2008-12-31 22:23:09   \n",
       "25%    1.000000e+00            2022-01-09 15:37:41   \n",
       "50%    2.000000e+00            2022-01-17 12:11:45   \n",
       "75%    2.000000e+00     2022-01-24 13:49:37.500000   \n",
       "max    6.000000e+00            2022-05-18 20:41:57   \n",
       "std    5.021375e-01                            NaN   \n",
       "\n",
       "               tpep_dropoff_datetime  passenger_count  trip_distance   \n",
       "count                        2463931     2.392428e+06   2.463931e+06  \\\n",
       "mean   2022-01-17 01:34:04.421900544     1.389453e+00   5.372751e+00   \n",
       "min              2008-12-31 23:06:56     0.000000e+00   0.000000e+00   \n",
       "25%       2022-01-09 15:50:50.500000     1.000000e+00   1.040000e+00   \n",
       "50%              2022-01-17 12:23:49     1.000000e+00   1.740000e+00   \n",
       "75%              2022-01-24 14:02:51     1.000000e+00   3.130000e+00   \n",
       "max              2022-05-18 20:47:45     9.000000e+00   3.061593e+05   \n",
       "std                              NaN     9.829686e-01   5.478714e+02   \n",
       "\n",
       "         RatecodeID  PULocationID  DOLocationID  payment_type   fare_amount   \n",
       "count  2.392428e+06  2.463931e+06  2.463931e+06  2.463931e+06  2.463931e+06  \\\n",
       "mean   1.415507e+00  1.660768e+02  1.635807e+02  1.194449e+00  1.294648e+01   \n",
       "min    1.000000e+00  1.000000e+00  1.000000e+00  0.000000e+00 -4.800000e+02   \n",
       "25%    1.000000e+00  1.320000e+02  1.130000e+02  1.000000e+00  6.500000e+00   \n",
       "50%    1.000000e+00  1.620000e+02  1.620000e+02  1.000000e+00  9.000000e+00   \n",
       "75%    1.000000e+00  2.340000e+02  2.360000e+02  1.000000e+00  1.400000e+01   \n",
       "max    9.900000e+01  2.650000e+02  2.650000e+02  5.000000e+00  4.010923e+05   \n",
       "std    5.917573e+00  6.546806e+01  7.079016e+01  5.001778e-01  2.558149e+02   \n",
       "\n",
       "              extra       mta_tax    tip_amount  tolls_amount   \n",
       "count  2.463931e+06  2.463931e+06  2.463931e+06  2.463931e+06  \\\n",
       "mean   1.006710e+00  4.914539e-01  2.385696e+00  3.749773e-01   \n",
       "min   -4.500000e+00 -5.000000e-01 -1.252200e+02 -3.140000e+01   \n",
       "25%    0.000000e+00  5.000000e-01  7.200000e-01  0.000000e+00   \n",
       "50%    5.000000e-01  5.000000e-01  2.000000e+00  0.000000e+00   \n",
       "75%    2.500000e+00  5.000000e-01  3.000000e+00  0.000000e+00   \n",
       "max    3.350000e+01  1.659000e+01  8.888800e+02  1.933000e+02   \n",
       "std    1.236226e+00  8.291560e-02  2.830698e+00  1.680538e+00   \n",
       "\n",
       "       improvement_surcharge  total_amount  congestion_surcharge   \n",
       "count           2.463931e+06  2.463931e+06          2.392428e+06  \\\n",
       "mean            2.967234e-01  1.916937e+01          2.282322e+00   \n",
       "min            -3.000000e-01 -4.803000e+02         -2.500000e+00   \n",
       "25%             3.000000e-01  1.130000e+01          2.500000e+00   \n",
       "50%             3.000000e-01  1.469000e+01          2.500000e+00   \n",
       "75%             3.000000e-01  2.002000e+01          2.500000e+00   \n",
       "max             3.000000e-01  4.010956e+05          2.500000e+00   \n",
       "std             4.374741e-02  2.559641e+02          7.432040e-01   \n",
       "\n",
       "        airport_fee      duration  \n",
       "count  2.392428e+06  2.463931e+06  \n",
       "mean   8.249935e-02  1.372804e+01  \n",
       "min   -1.250000e+00 -3.442000e+03  \n",
       "25%    0.000000e+00  6.000000e+00  \n",
       "50%    0.000000e+00  1.000000e+01  \n",
       "75%    0.000000e+00  1.600000e+01  \n",
       "max    1.250000e+00  8.513000e+03  \n",
       "std    3.125554e-01  4.644542e+01  "
      ]
     },
     "execution_count": 30,
     "metadata": {},
     "output_type": "execute_result"
    }
   ],
   "source": [
    "df.describe()"
   ]
  },
  {
   "cell_type": "code",
   "execution_count": 31,
   "id": "7287e1f5-86e0-4934-a23a-b4ca84e91f48",
   "metadata": {},
   "outputs": [],
   "source": [
    "df = df[(df.duration >= 1) & (df.duration <= 60)]"
   ]
  },
  {
   "cell_type": "code",
   "execution_count": 32,
   "id": "e1feec7c-dd5d-492f-b842-23f940ee6d4a",
   "metadata": {},
   "outputs": [],
   "source": [
    "num_rows_post_filter = df.shape[0]"
   ]
  },
  {
   "cell_type": "code",
   "execution_count": 33,
   "id": "1b8dca2c-b8ae-4def-ad6f-8bb6b4f1d378",
   "metadata": {},
   "outputs": [
    {
     "data": {
      "text/plain": [
       "98.3519830709545"
      ]
     },
     "execution_count": 33,
     "metadata": {},
     "output_type": "execute_result"
    }
   ],
   "source": [
    "percentage_of_records_left = (num_rows_post_filter/num_rows_pre_filter)*100\n",
    "percentage_of_records_left"
   ]
  },
  {
   "cell_type": "code",
   "execution_count": 34,
   "id": "cf6fe1e6-65b1-43d0-b655-2f9443ff8edb",
   "metadata": {},
   "outputs": [],
   "source": [
    "def read_dataframe(filename):\n",
    "    if filename.endswith('.csv'):\n",
    "        df = pd.read_csv(filename)\n",
    "\n",
    "        df.tpep_dropoff_datetime = pd.to_datetime(df.tpep_dropoff_datetime)\n",
    "        df.tpep_pickup_datetime = pd.to_datetime(df.tpep_pickup_datetime)\n",
    "    elif filename.endswith('.parquet'):\n",
    "        df = pd.read_parquet(filename)\n",
    "\n",
    "    df['duration'] = df.tpep_dropoff_datetime - df.tpep_pickup_datetime\n",
    "    df.duration = df.duration.apply(lambda td: td.total_seconds() / 60)\n",
    "\n",
    "    df = df[(df.duration >= 1) & (df.duration <= 60)]\n",
    "\n",
    "    categorical = ['PULocationID', 'DOLocationID']\n",
    "    df[categorical] = df[categorical].astype(str)\n",
    "    \n",
    "    return df"
   ]
  },
  {
   "cell_type": "code",
   "execution_count": 35,
   "id": "9507b874-60ce-453b-b199-09a0426a32f0",
   "metadata": {},
   "outputs": [],
   "source": [
    "df_train = read_dataframe('/Users/yl5933/Downloads/yellow_tripdata_2022-01.parquet')\n",
    "df_val = read_dataframe('/Users/yl5933/Downloads/yellow_tripdata_2022-02.parquet')"
   ]
  },
  {
   "cell_type": "code",
   "execution_count": 36,
   "id": "a47ffe84-107a-46f6-80e0-00a22687bef2",
   "metadata": {},
   "outputs": [
    {
     "data": {
      "text/plain": [
       "(2421440, 2918187)"
      ]
     },
     "execution_count": 36,
     "metadata": {},
     "output_type": "execute_result"
    }
   ],
   "source": [
    "len(df_train), len(df_val)"
   ]
  },
  {
   "cell_type": "code",
   "execution_count": 37,
   "id": "d844ddce-53a1-4a36-b412-3ed05f3719e8",
   "metadata": {},
   "outputs": [],
   "source": [
    "categorical = ['PULocationID', 'DOLocationID']\n",
    "numerical = ['trip_distance']\n",
    "\n",
    "dv = DictVectorizer()\n",
    "\n",
    "train_dicts = df_train[categorical + numerical].to_dict(orient='records')\n",
    "X_train = dv.fit_transform(train_dicts)\n",
    "\n",
    "val_dicts = df_val[categorical + numerical].to_dict(orient='records')\n",
    "X_val = dv.transform(val_dicts)"
   ]
  },
  {
   "cell_type": "code",
   "execution_count": 38,
   "id": "e6ae6c68-5afa-4818-8328-b0aed0418375",
   "metadata": {},
   "outputs": [
    {
     "data": {
      "text/plain": [
       "((2918187, 516), (2421440, 516))"
      ]
     },
     "execution_count": 38,
     "metadata": {},
     "output_type": "execute_result"
    }
   ],
   "source": [
    "X_val.shape, X_train.shape"
   ]
  },
  {
   "cell_type": "code",
   "execution_count": 39,
   "id": "02aedcf0-e83b-4ad8-bc01-5eb1dbad3c83",
   "metadata": {},
   "outputs": [],
   "source": [
    "target = 'duration'\n",
    "y_train = df_train[target].values\n",
    "y_val = df_val[target].values"
   ]
  },
  {
   "cell_type": "code",
   "execution_count": 41,
   "id": "3583911e-927f-4d5a-af8c-4544964bad65",
   "metadata": {},
   "outputs": [
    {
     "data": {
      "text/plain": [
       "7.001496179360711"
      ]
     },
     "execution_count": 41,
     "metadata": {},
     "output_type": "execute_result"
    }
   ],
   "source": [
    "lr = LinearRegression()\n",
    "lr.fit(X_train, y_train)\n",
    "\n",
    "y_pred = lr.predict(X_train)\n",
    "\n",
    "mean_squared_error(y_train, y_pred, squared=False)"
   ]
  },
  {
   "cell_type": "code",
   "execution_count": 40,
   "id": "f381addf-6e58-42c4-a9a9-698b1ff9ad10",
   "metadata": {},
   "outputs": [
    {
     "data": {
      "text/plain": [
       "7.795498400456978"
      ]
     },
     "execution_count": 40,
     "metadata": {},
     "output_type": "execute_result"
    }
   ],
   "source": [
    "lr = LinearRegression()\n",
    "lr.fit(X_train, y_train)\n",
    "\n",
    "y_pred = lr.predict(X_val)\n",
    "\n",
    "mean_squared_error(y_val, y_pred, squared=False)"
   ]
  },
  {
   "cell_type": "code",
   "execution_count": null,
   "id": "04219fc8-a9cb-4173-aa95-65e23a6f050f",
   "metadata": {},
   "outputs": [],
   "source": []
  }
 ],
 "metadata": {
  "kernelspec": {
   "display_name": "Python 3 (ipykernel)",
   "language": "python",
   "name": "python3"
  },
  "language_info": {
   "codemirror_mode": {
    "name": "ipython",
    "version": 3
   },
   "file_extension": ".py",
   "mimetype": "text/x-python",
   "name": "python",
   "nbconvert_exporter": "python",
   "pygments_lexer": "ipython3",
   "version": "3.9.6"
  }
 },
 "nbformat": 4,
 "nbformat_minor": 5
}
